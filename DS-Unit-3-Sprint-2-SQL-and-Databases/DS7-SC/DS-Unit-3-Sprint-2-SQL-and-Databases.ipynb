{
 "cells": [
  {
   "cell_type": "code",
   "execution_count": 28,
   "metadata": {
    "ExecuteTime": {
     "end_time": "2019-10-26T18:11:07.420281Z",
     "start_time": "2019-10-26T18:11:07.415259Z"
    }
   },
   "outputs": [],
   "source": [
    "import sqlite3"
   ]
  },
  {
   "cell_type": "code",
   "execution_count": 29,
   "metadata": {
    "ExecuteTime": {
     "end_time": "2019-10-26T18:11:07.853673Z",
     "start_time": "2019-10-26T18:11:07.844090Z"
    }
   },
   "outputs": [],
   "source": [
    "conn = sqlite3.connect('demo_data.sqlite3')"
   ]
  },
  {
   "cell_type": "code",
   "execution_count": 30,
   "metadata": {
    "ExecuteTime": {
     "end_time": "2019-10-26T18:11:08.201927Z",
     "start_time": "2019-10-26T18:11:08.194795Z"
    }
   },
   "outputs": [],
   "source": [
    "curs = conn.cursor()"
   ]
  },
  {
   "cell_type": "code",
   "execution_count": 31,
   "metadata": {
    "ExecuteTime": {
     "end_time": "2019-10-26T18:11:08.547011Z",
     "start_time": "2019-10-26T18:11:08.531322Z"
    }
   },
   "outputs": [
    {
     "data": {
      "text/plain": [
       "<sqlite3.Cursor at 0x7f78d4419570>"
      ]
     },
     "execution_count": 31,
     "metadata": {},
     "output_type": "execute_result"
    }
   ],
   "source": [
    "curs.execute(\"CREATE TABLE demo (s text PRIMARY KEY NOT NULL,x INTEGER NOT NULL,y INTEGER NOT NULL  )\")"
   ]
  },
  {
   "cell_type": "code",
   "execution_count": 32,
   "metadata": {
    "ExecuteTime": {
     "end_time": "2019-10-26T18:11:08.957447Z",
     "start_time": "2019-10-26T18:11:08.947024Z"
    }
   },
   "outputs": [
    {
     "data": {
      "text/plain": [
       "<sqlite3.Cursor at 0x7f78d4419570>"
      ]
     },
     "execution_count": 32,
     "metadata": {},
     "output_type": "execute_result"
    }
   ],
   "source": [
    "curs.execute(\"INSERT INTO demo(s,x,y) VALUES ('g', 3, 9), ('v', 5, 7), ('f', 8, 7)\")"
   ]
  },
  {
   "cell_type": "code",
   "execution_count": 33,
   "metadata": {
    "ExecuteTime": {
     "end_time": "2019-10-26T18:11:09.560517Z",
     "start_time": "2019-10-26T18:11:09.546836Z"
    }
   },
   "outputs": [],
   "source": [
    "conn.commit()"
   ]
  },
  {
   "cell_type": "code",
   "execution_count": 34,
   "metadata": {
    "ExecuteTime": {
     "end_time": "2019-10-26T18:11:10.265990Z",
     "start_time": "2019-10-26T18:11:10.260650Z"
    }
   },
   "outputs": [
    {
     "data": {
      "text/plain": [
       "[(3,)]"
      ]
     },
     "execution_count": 34,
     "metadata": {},
     "output_type": "execute_result"
    }
   ],
   "source": [
    "curs.execute(\"SELECT COUNT(*) FROM demo\").fetchall()"
   ]
  },
  {
   "cell_type": "code",
   "execution_count": 35,
   "metadata": {
    "ExecuteTime": {
     "end_time": "2019-10-26T18:11:11.053837Z",
     "start_time": "2019-10-26T18:11:11.042804Z"
    }
   },
   "outputs": [
    {
     "data": {
      "text/plain": [
       "[(2,)]"
      ]
     },
     "execution_count": 35,
     "metadata": {},
     "output_type": "execute_result"
    }
   ],
   "source": [
    "curs.execute(\"SELECT COUNT(*) FROM demo WHERE x >= 5 AND y >= 5\").fetchall()"
   ]
  },
  {
   "cell_type": "code",
   "execution_count": 36,
   "metadata": {
    "ExecuteTime": {
     "end_time": "2019-10-26T18:11:14.343839Z",
     "start_time": "2019-10-26T18:11:14.332388Z"
    }
   },
   "outputs": [
    {
     "data": {
      "text/plain": [
       "[(2,)]"
      ]
     },
     "execution_count": 36,
     "metadata": {},
     "output_type": "execute_result"
    }
   ],
   "source": [
    "curs.execute(\"SELECT COUNT(DISTINCT y) FROM demo\").fetchall()"
   ]
  },
  {
   "cell_type": "code",
   "execution_count": 37,
   "metadata": {
    "ExecuteTime": {
     "end_time": "2019-10-26T18:11:16.385579Z",
     "start_time": "2019-10-26T18:11:16.379435Z"
    }
   },
   "outputs": [],
   "source": [
    "conn = sqlite3.connect('northwind_small.sqlite3')"
   ]
  },
  {
   "cell_type": "code",
   "execution_count": 38,
   "metadata": {
    "ExecuteTime": {
     "end_time": "2019-10-26T18:11:16.928098Z",
     "start_time": "2019-10-26T18:11:16.922177Z"
    }
   },
   "outputs": [],
   "source": [
    "curs = conn.cursor()"
   ]
  },
  {
   "cell_type": "code",
   "execution_count": 39,
   "metadata": {
    "ExecuteTime": {
     "end_time": "2019-10-26T18:11:17.287605Z",
     "start_time": "2019-10-26T18:11:17.274892Z"
    }
   },
   "outputs": [
    {
     "data": {
      "text/plain": [
       "[(263.5,),\n",
       " (123.79,),\n",
       " (97,),\n",
       " (81,),\n",
       " (62.5,),\n",
       " (55,),\n",
       " (53,),\n",
       " (49.3,),\n",
       " (46,),\n",
       " (45.6,)]"
      ]
     },
     "execution_count": 39,
     "metadata": {},
     "output_type": "execute_result"
    }
   ],
   "source": [
    "curs.execute(\"SELECT UnitPrice from Product ORDER BY UnitPrice DESC LIMIT 10\").fetchall()"
   ]
  },
  {
   "cell_type": "code",
   "execution_count": 40,
   "metadata": {
    "ExecuteTime": {
     "end_time": "2019-10-26T18:11:17.789891Z",
     "start_time": "2019-10-26T18:11:17.778879Z"
    }
   },
   "outputs": [
    {
     "data": {
      "text/plain": [
       "[(31.22222222222217,)]"
      ]
     },
     "execution_count": 40,
     "metadata": {},
     "output_type": "execute_result"
    }
   ],
   "source": [
    "curs.execute(\"SELECT datetime() - AVG(BirthDate) from Employee\").fetchall()"
   ]
  },
  {
   "cell_type": "code",
   "execution_count": 41,
   "metadata": {
    "ExecuteTime": {
     "end_time": "2019-10-26T18:11:18.357752Z",
     "start_time": "2019-10-26T18:11:18.346628Z"
    }
   },
   "outputs": [
    {
     "data": {
      "text/plain": [
       "[('Kirkland', 24.0),\n",
       " ('London', 26.0),\n",
       " ('Redmond', 50.0),\n",
       " ('Seattle', 34.0),\n",
       " ('Tacoma', 35.0)]"
      ]
     },
     "execution_count": 41,
     "metadata": {},
     "output_type": "execute_result"
    }
   ],
   "source": [
    "curs.execute(\"SELECT City, datetime() - AVG(BirthDate) from Employee GROUP BY City\").fetchall()"
   ]
  },
  {
   "cell_type": "code",
   "execution_count": 42,
   "metadata": {
    "ExecuteTime": {
     "end_time": "2019-10-26T18:11:18.784788Z",
     "start_time": "2019-10-26T18:11:18.779158Z"
    }
   },
   "outputs": [
    {
     "data": {
      "text/plain": [
       "[(263.5, 'Aux joyeux ecclésiastiques'),\n",
       " (123.79, 'Plutzer Lebensmittelgroßmärkte AG'),\n",
       " (97, 'Tokyo Traders'),\n",
       " (81, 'Specialty Biscuits, Ltd.'),\n",
       " (62.5, 'Pavlova, Ltd.'),\n",
       " (55, 'Gai pâturage'),\n",
       " (53, \"G'day, Mate\"),\n",
       " (49.3, \"Forêts d'érables\"),\n",
       " (46, 'Leka Trading'),\n",
       " (45.6, 'Plutzer Lebensmittelgroßmärkte AG')]"
      ]
     },
     "execution_count": 42,
     "metadata": {},
     "output_type": "execute_result"
    }
   ],
   "source": [
    "curs.execute(\n",
    "  \"\"\"\n",
    "SELECT UnitPrice, CompanyName \n",
    "from Product p \n",
    "INNER JOIN Supplier s ON p.SupplierId = s.Id\n",
    "ORDER BY UnitPrice DESC LIMIT 10\n",
    "  \"\"\"\n",
    ").fetchall()"
   ]
  },
  {
   "cell_type": "code",
   "execution_count": 43,
   "metadata": {
    "ExecuteTime": {
     "end_time": "2019-10-26T18:11:20.118291Z",
     "start_time": "2019-10-26T18:11:20.106596Z"
    }
   },
   "outputs": [
    {
     "data": {
      "text/plain": [
       "[('Produce', 5)]"
      ]
     },
     "execution_count": 43,
     "metadata": {},
     "output_type": "execute_result"
    }
   ],
   "source": [
    "curs.execute(\n",
    "  \"\"\"\n",
    "  SELECT CategoryName, COUNT(DISTINCT p.Id) FROM Product p INNER JOIN Category c on c.Id = p.SupplierId\n",
    "  GROUP BY c.Id\n",
    "  ORDER BY COUNT(DISTINCT p.Id) DESC \n",
    "  LIMIT 1\n",
    "  \"\"\").fetchall()"
   ]
  },
  {
   "cell_type": "code",
   "execution_count": 44,
   "metadata": {
    "ExecuteTime": {
     "end_time": "2019-10-26T18:11:20.973663Z",
     "start_time": "2019-10-26T18:11:20.965837Z"
    }
   },
   "outputs": [
    {
     "data": {
      "text/plain": [
       "[('Robert King',)]"
      ]
     },
     "execution_count": 44,
     "metadata": {},
     "output_type": "execute_result"
    }
   ],
   "source": [
    "curs.execute(\n",
    "  \"\"\"\n",
    "SELECT FirstName || \" \" || LastName FROM EmployeeTerritory et \n",
    "INNER JOIN Employee e on e.Id = et.EmployeeId\n",
    "GROUP BY et.EmployeeId\n",
    "ORDER BY COUNT(DISTINCT(et.TerritoryId)) DESC\n",
    "LIMIT 1  \n",
    "  \"\"\").fetchall()\n",
    "  "
   ]
  },
  {
   "cell_type": "markdown",
   "metadata": {},
   "source": [
    " In the Northwind database, what is the type of relationship between the\n",
    "  `Employee` and `Territory` tables?   \n",
    " ###  Many To Many"
   ]
  },
  {
   "cell_type": "code",
   "execution_count": null,
   "metadata": {},
   "outputs": [],
   "source": [
    "# dspt4"
   ]
  }
 ],
 "metadata": {
  "kernelspec": {
   "display_name": "Python 3",
   "language": "python",
   "name": "python3"
  },
  "language_info": {
   "codemirror_mode": {
    "name": "ipython",
    "version": 3
   },
   "file_extension": ".py",
   "mimetype": "text/x-python",
   "name": "python",
   "nbconvert_exporter": "python",
   "pygments_lexer": "ipython3",
   "version": "3.7.4"
  },
  "latex_envs": {
   "LaTeX_envs_menu_present": true,
   "autoclose": false,
   "autocomplete": true,
   "bibliofile": "biblio.bib",
   "cite_by": "apalike",
   "current_citInitial": 1,
   "eqLabelWithNumbers": true,
   "eqNumInitial": 1,
   "hotkeys": {
    "equation": "Ctrl-E",
    "itemize": "Ctrl-I"
   },
   "labels_anchors": false,
   "latex_user_defs": false,
   "report_style_numbering": false,
   "user_envs_cfg": false
  }
 },
 "nbformat": 4,
 "nbformat_minor": 2
}
